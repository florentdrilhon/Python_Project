{
 "cells": [
  {
   "cell_type": "code",
   "execution_count": 27,
   "metadata": {},
   "outputs": [
    {
     "name": "stderr",
     "output_type": "stream",
     "text": [
      "C:\\Users\\flore\\Anaconda3\\lib\\site-packages\\sklearn\\externals\\joblib\\__init__.py:15: DeprecationWarning: sklearn.externals.joblib is deprecated in 0.21 and will be removed in 0.23. Please import this functionality directly from joblib, which can be installed with: pip install joblib. If this warning is raised when loading pickled models, you may need to re-serialize those models with scikit-learn 0.21+.\n",
      "  warnings.warn(msg, category=DeprecationWarning)\n"
     ]
    }
   ],
   "source": [
    "import os\n",
    "import pandas as pd\n",
    "from sklearn.model_selection import train_test_split\n",
    "from sklearn.tree import DecisionTreeClassifier\n",
    "from sklearn.ensemble import RandomForestClassifier\n",
    "from sklearn.pipeline import make_pipeline\n",
    "from sklearn.feature_selection import SelectKBest, f_classif\n",
    "from sklearn.preprocessing import PolynomialFeatures\n",
    "from sklearn.preprocessing import StandardScaler\n",
    "from sklearn.feature_selection import RFECV\n",
    "from sklearn.linear_model import SGDClassifier\n",
    "from sklearn.svm import SVC, LinearSVC\n",
    "from sklearn.compose import make_column_transformer\n",
    "from sklearn.svm import SVC\n",
    "from sklearn.model_selection import GridSearchCV, RandomizedSearchCV\n",
    "from sklearn.metrics import precision_recall_curve\n",
    "from sklearn.metrics import f1_score, confusion_matrix, classification_report, accuracy_score\n",
    "from sklearn.externals import joblib\n"
   ]
  },
  {
   "cell_type": "code",
   "execution_count": 2,
   "metadata": {},
   "outputs": [],
   "source": [
    "description={}\n",
    "file=open('description.txt','r')\n",
    "for l in file:\n",
    "    data=[str(d)for d in l.split(\": \")]\n",
    "    name=[str(n) for n in data[0].split(\") \") ]\n",
    "    descr=[str(des)for des in data[1].split(\"\\n\")]\n",
    "    description[name[1]]=descr[0]\n",
    "    \n",
    "# as the given names are not significant at all, we use the description as names\n",
    "\n",
    "names=[]\n",
    "for key,value in description.items():\n",
    "    names.append(value)\n",
    "# exept for the target value which is too descriptive\n",
    "names[-1]='experimental class'\n",
    "names\n",
    "data=pd.read_csv('biodeg.csv',names=names, delimiter=';')\n",
    "df=data.copy()"
   ]
  },
  {
   "cell_type": "code",
   "execution_count": 3,
   "metadata": {},
   "outputs": [],
   "source": [
    "def col_by_name(dataframe,name):\n",
    "    res=[]\n",
    "    for col in dataframe.columns:\n",
    "        if name.lower() in col.lower():\n",
    "            res.append(col)\n",
    "    return res\n",
    "\n",
    "def col_by_type(dataframe,dtype):\n",
    "    res=[]\n",
    "    for col in dataframe.select_dtypes(dtype):\n",
    "            res.append(col)\n",
    "    return res"
   ]
  },
  {
   "cell_type": "code",
   "execution_count": 4,
   "metadata": {},
   "outputs": [],
   "source": [
    "trainset,testset=train_test_split(df,test_size=0.2, random_state=1)"
   ]
  },
  {
   "cell_type": "code",
   "execution_count": 5,
   "metadata": {},
   "outputs": [],
   "source": [
    "def encryption(df):\n",
    "    code={'RB':1,'NRB':0}\n",
    "    for col in df.select_dtypes(include=['object']).columns:\n",
    "        df.loc[:,col]=df[col].map(code)\n",
    "    return df\n",
    "\n",
    "def preprocessing(df):\n",
    "    \n",
    "    df=encryption(df)\n",
    "    \n",
    "    X=df.drop('experimental class', axis=1)\n",
    "    y=df['experimental class']\n",
    "    \n",
    "    \n",
    "    print(y.value_counts())\n",
    "    return X,y"
   ]
  },
  {
   "cell_type": "code",
   "execution_count": 6,
   "metadata": {},
   "outputs": [
    {
     "name": "stdout",
     "output_type": "stream",
     "text": [
      "0    567\n",
      "1    277\n",
      "Name: experimental class, dtype: int64\n",
      "0    132\n",
      "1     79\n",
      "Name: experimental class, dtype: int64\n"
     ]
    },
    {
     "name": "stderr",
     "output_type": "stream",
     "text": [
      "C:\\Users\\flore\\Anaconda3\\lib\\site-packages\\pandas\\core\\indexing.py:494: SettingWithCopyWarning: \n",
      "A value is trying to be set on a copy of a slice from a DataFrame.\n",
      "Try using .loc[row_indexer,col_indexer] = value instead\n",
      "\n",
      "See the caveats in the documentation: http://pandas.pydata.org/pandas-docs/stable/user_guide/indexing.html#returning-a-view-versus-a-copy\n",
      "  self.obj[item] = s\n"
     ]
    }
   ],
   "source": [
    "X_train, y_train=preprocessing(trainset)\n",
    "X_test, y_test=preprocessing(testset)"
   ]
  },
  {
   "cell_type": "code",
   "execution_count": 7,
   "metadata": {},
   "outputs": [],
   "source": [
    "continuous_features=col_by_type(df,'float64')\n",
    "continuous_pipeline=make_pipeline(StandardScaler())\n",
    "transformer=make_column_transformer((continuous_pipeline,continuous_features))"
   ]
  },
  {
   "cell_type": "code",
   "execution_count": 8,
   "metadata": {},
   "outputs": [],
   "source": [
    "selector = RFECV(SGDClassifier(random_state=0),\n",
    "                step=1,\n",
    "                min_features_to_select=10,\n",
    "                cv=5)"
   ]
  },
  {
   "cell_type": "code",
   "execution_count": 9,
   "metadata": {},
   "outputs": [],
   "source": [
    "preprocessor_other=make_pipeline(transformer, selector)"
   ]
  },
  {
   "cell_type": "code",
   "execution_count": 11,
   "metadata": {},
   "outputs": [
    {
     "data": {
      "text/plain": [
       "RandomizedSearchCV(cv=4, error_score='raise-deprecating',\n",
       "                   estimator=Pipeline(memory=None,\n",
       "                                      steps=[('pipeline',\n",
       "                                              Pipeline(memory=None,\n",
       "                                                       steps=[('columntransformer',\n",
       "                                                               ColumnTransformer(n_jobs=None,\n",
       "                                                                                 remainder='drop',\n",
       "                                                                                 sparse_threshold=0.3,\n",
       "                                                                                 transformer_weights=None,\n",
       "                                                                                 transformers=[('pipeline',\n",
       "                                                                                                Pipeline(memory=None,\n",
       "                                                                                                         steps=[('standardscaler',\n",
       "                                                                                                                 StandardScaler(copy=True,\n",
       "                                                                                                                                with_...\n",
       "                                                  kernel='rbf', max_iter=-1,\n",
       "                                                  probability=False,\n",
       "                                                  random_state=0,\n",
       "                                                  shrinking=True, tol=0.001,\n",
       "                                                  verbose=False))],\n",
       "                                      verbose=False),\n",
       "                   iid='warn', n_iter=40, n_jobs=None,\n",
       "                   param_distributions={'svc__C': range(1, 10000),\n",
       "                                        'svc__gamma': [1e-06, 1e-05, 0.0001,\n",
       "                                                       0.001, 0.01, 0.1, 1]},\n",
       "                   pre_dispatch='2*n_jobs', random_state=None, refit=True,\n",
       "                   return_train_score=False, scoring='accuracy', verbose=0)"
      ]
     },
     "execution_count": 11,
     "metadata": {},
     "output_type": "execute_result"
    }
   ],
   "source": [
    "SVM=make_pipeline(preprocessor_other, SVC(random_state=0))\n",
    "hyper_parameters_svm={'svc__C':range(1,10000), 'svc__gamma': [1e-6,1e-5,1e-4,1e-3,1e-2,1e-1,1]}\n",
    "grid=RandomizedSearchCV(SVM,hyper_parameters_svm,scoring='accuracy',cv=4,n_iter=40)\n",
    "\n",
    "grid.fit(X_train,y_train)\n",
    "                  "
   ]
  },
  {
   "cell_type": "code",
   "execution_count": 12,
   "metadata": {},
   "outputs": [],
   "source": [
    "def best_theshold(precision, recall, threshold):\n",
    "    res=0\n",
    "    for i in range(len(precision)-1):\n",
    "        if precision[i]==recall[i]:\n",
    "            res=threshold[i]\n",
    "    return res"
   ]
  },
  {
   "cell_type": "code",
   "execution_count": 13,
   "metadata": {},
   "outputs": [],
   "source": [
    "precision, recall, threshold=precision_recall_curve(y_test, grid.best_estimator_.decision_function(X_test))\n",
    "bt = bt=best_theshold(precision, recall, threshold)"
   ]
  },
  {
   "cell_type": "code",
   "execution_count": 17,
   "metadata": {},
   "outputs": [],
   "source": [
    "def model_final(X):\n",
    "    return grid.best_estimator_.decision_function(X)>bt"
   ]
  },
  {
   "cell_type": "code",
   "execution_count": 20,
   "metadata": {},
   "outputs": [
    {
     "data": {
      "text/plain": [
       "0.8625592417061612"
      ]
     },
     "execution_count": 20,
     "metadata": {},
     "output_type": "execute_result"
    }
   ],
   "source": [
    "y_pred=model_final(X_test)\n",
    "accuracy_score(y_test, y_pred)"
   ]
  },
  {
   "cell_type": "code",
   "execution_count": 21,
   "metadata": {},
   "outputs": [
    {
     "data": {
      "text/plain": [
       "0.8152866242038216"
      ]
     },
     "execution_count": 21,
     "metadata": {},
     "output_type": "execute_result"
    }
   ],
   "source": [
    "f1_score(y_test, y_pred)"
   ]
  },
  {
   "cell_type": "code",
   "execution_count": 32,
   "metadata": {},
   "outputs": [
    {
     "data": {
      "text/plain": [
       "0.8578199052132701"
      ]
     },
     "execution_count": 32,
     "metadata": {},
     "output_type": "execute_result"
    }
   ],
   "source": [
    "model=grid.best_estimator_\n",
    "model.\n",
    "model.fit(X_train, y_train)\n",
    "model.score(X_test,y_test)"
   ]
  },
  {
   "cell_type": "code",
   "execution_count": 33,
   "metadata": {},
   "outputs": [
    {
     "data": {
      "text/plain": [
       "['model.sav']"
      ]
     },
     "execution_count": 33,
     "metadata": {},
     "output_type": "execute_result"
    }
   ],
   "source": [
    "joblib.dump(model, filename = 'model.sav')\n"
   ]
  }
 ],
 "metadata": {
  "kernelspec": {
   "display_name": "Python 3",
   "language": "python",
   "name": "python3"
  },
  "language_info": {
   "codemirror_mode": {
    "name": "ipython",
    "version": 3
   },
   "file_extension": ".py",
   "mimetype": "text/x-python",
   "name": "python",
   "nbconvert_exporter": "python",
   "pygments_lexer": "ipython3",
   "version": "3.7.4"
  }
 },
 "nbformat": 4,
 "nbformat_minor": 2
}
