{
 "cells": [
  {
   "cell_type": "code",
   "execution_count": 11,
   "metadata": {},
   "outputs": [],
   "source": [
    "from sklearn.externals import joblib\n",
    "import numpy as np\n",
    "import pandas as pd"
   ]
  },
  {
   "cell_type": "code",
   "execution_count": 9,
   "metadata": {},
   "outputs": [],
   "source": [
    "model = joblib.load(\"model.sav\")\n",
    "\n"
   ]
  },
  {
   "cell_type": "code",
   "execution_count": 12,
   "metadata": {},
   "outputs": [],
   "source": [
    "description={}\n",
    "file=open('description.txt','r')\n",
    "for l in file:\n",
    "    data=[str(d)for d in l.split(\": \")]\n",
    "    name=[str(n) for n in data[0].split(\") \") ]\n",
    "    descr=[str(des)for des in data[1].split(\"\\n\")]\n",
    "    description[name[1]]=descr[0]\n",
    "    \n",
    "# as the given names are not significant at all, we use the description as names\n",
    "\n",
    "names=[]\n",
    "for key,value in description.items():\n",
    "    names.append(value)\n",
    "# exept for the target value which is too descriptive\n",
    "names[-1]='experimental class'\n",
    "names\n",
    "data=pd.read_csv('biodeg.csv',names=names, delimiter=';')\n",
    "df=data.copy()"
   ]
  },
  {
   "cell_type": "code",
   "execution_count": 13,
   "metadata": {},
   "outputs": [],
   "source": [
    "def encryption(df):\n",
    "    code={'RB':1,'NRB':0}\n",
    "    for col in df.select_dtypes(include=['object']).columns:\n",
    "        df.loc[:,col]=df[col].map(code)\n",
    "    return df\n",
    "\n",
    "def preprocessing(df):\n",
    "    \n",
    "    df=encryption(df)\n",
    "    \n",
    "    X=df.drop('experimental class', axis=1)\n",
    "    y=df['experimental class']\n",
    "    \n",
    "    \n",
    "    print(y.value_counts())\n",
    "    return X,y"
   ]
  },
  {
   "cell_type": "code",
   "execution_count": 14,
   "metadata": {
    "scrolled": true
   },
   "outputs": [
    {
     "name": "stdout",
     "output_type": "stream",
     "text": [
      "0    699\n",
      "1    356\n",
      "Name: experimental class, dtype: int64\n"
     ]
    }
   ],
   "source": []
  },
  {
   "cell_type": "code",
   "execution_count": 15,
   "metadata": {},
   "outputs": [
    {
     "data": {
      "text/plain": [
       "0.8938388625592417"
      ]
     },
     "execution_count": 15,
     "metadata": {},
     "output_type": "execute_result"
    }
   ],
   "source": []
  }
 ],
 "metadata": {
  "kernelspec": {
   "display_name": "Python 3",
   "language": "python",
   "name": "python3"
  },
  "language_info": {
   "codemirror_mode": {
    "name": "ipython",
    "version": 3
   },
   "file_extension": ".py",
   "mimetype": "text/x-python",
   "name": "python",
   "nbconvert_exporter": "python",
   "pygments_lexer": "ipython3",
   "version": "3.7.4"
  }
 },
 "nbformat": 4,
 "nbformat_minor": 2
}
